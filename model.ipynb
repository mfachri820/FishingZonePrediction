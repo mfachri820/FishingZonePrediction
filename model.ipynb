{
 "cells": [
  {
   "cell_type": "code",
   "execution_count": 19,
   "id": "6ab586b4",
   "metadata": {},
   "outputs": [
    {
     "name": "stdout",
     "output_type": "stream",
     "text": [
      "2025.7.1\n"
     ]
    }
   ],
   "source": [
    "import xarray as xr\n",
    "print(xr.__version__)\n"
   ]
  },
  {
   "cell_type": "code",
   "execution_count": 3,
   "id": "09926c1c",
   "metadata": {},
   "outputs": [],
   "source": [
    "import xarray as xr\n",
    "\n",
    "def process_all_quarters(file_path: str):\n",
    "    \"\"\"\n",
    "    Memuat file NetCDF harian dan melakukan agregasi ke kuartalan\n",
    "    untuk seluruh rentang waktu data.\n",
    "\n",
    "    Args:\n",
    "        file_path (str): Path menuju file .nc.\n",
    "        \n",
    "    Returns:\n",
    "        xarray.Dataset: Dataset yang berisi data kuartalan, atau None jika error.\n",
    "    \"\"\"\n",
    "    try:\n",
    "        ds = xr.open_dataset(file_path)\n",
    "        if 't' in ds.coords:\n",
    "            ds = ds.rename({'t': 'time'})\n",
    "\n",
    "        # Agregasi ke data kuartalan untuk seluruh 10 tahun\n",
    "        quarterly_data = ds.resample(time='Q').mean()\n",
    "        \n",
    "        return quarterly_data\n",
    "\n",
    "    except Exception as e:\n",
    "        print(f\"Terjadi error saat memproses {file_path}: {e}\")\n",
    "        return None"
   ]
  },
  {
   "cell_type": "code",
   "execution_count": 5,
   "id": "b857b79c",
   "metadata": {},
   "outputs": [
    {
     "name": "stdout",
     "output_type": "stream",
     "text": [
      "Memproses dataset/Philippines/cmems_mod_glo_bgc-pft_anfc_0.25deg_P1D-m_1754231774728.nc untuk seluruh 10 tahun...\n",
      "Memproses dataset/Philippines/cmems_mod_glo_phy-cur_anfc_0.083deg_P1D-m_1754231512886.nc untuk seluruh 10 tahun...\n"
     ]
    },
    {
     "name": "stderr",
     "output_type": "stream",
     "text": [
      "c:\\CodeTools\\Projek\\Gemastik\\.venv\\Lib\\site-packages\\xarray\\groupers.py:509: FutureWarning: 'Q' is deprecated and will be removed in a future version, please use 'QE' instead.\n",
      "  self.index_grouper = pd.Grouper(\n",
      "c:\\CodeTools\\Projek\\Gemastik\\.venv\\Lib\\site-packages\\xarray\\groupers.py:509: FutureWarning: 'Q' is deprecated and will be removed in a future version, please use 'QE' instead.\n",
      "  self.index_grouper = pd.Grouper(\n"
     ]
    },
    {
     "name": "stdout",
     "output_type": "stream",
     "text": [
      "Memproses dataset/Philippines/cmems_mod_glo_phy-thetao_anfc_0.083deg_P1D-m_1754231610874.nc untuk seluruh 10 tahun...\n",
      "\n",
      "--- Data kuartalan berhasil diproses dan disimpan ---\n",
      "\n",
      "Informasi data SST Kuartalan (10 Tahun):\n",
      "<xarray.Dataset> Size: 199kB\n",
      "Dimensions:    (time: 16, depth: 1, latitude: 69, longitude: 45)\n",
      "Coordinates:\n",
      "  * depth      (depth) float32 4B 0.494\n",
      "  * latitude   (latitude) float32 276B 4.0 4.25 4.5 4.75 ... 20.5 20.75 21.0\n",
      "  * longitude  (longitude) float32 180B 116.0 116.2 116.5 ... 126.5 126.8 127.0\n",
      "  * time       (time) datetime64[ns] 128B 2021-12-31 2022-03-31 ... 2025-09-30\n",
      "Data variables:\n",
      "    chl        (time, depth, latitude, longitude) float32 199kB nan ... 0.09347\n",
      "Attributes:\n",
      "    Conventions:       CF-1.11\n",
      "    title:             daily mean fields from Global Ocean Biogeochemistry An...\n",
      "    institution:       Mercator Ocean\n",
      "    producer:          CMEMS - Global Monitoring and Forecasting Centre\n",
      "    credit:            E.U. Copernicus Marine Service Information (CMEMS)\n",
      "    contact:           https://marine.copernicus.eu/contact\n",
      "    references:        http://marine.copernicus.eu\n",
      "    subset:source:     ARCO data downloaded from the Marine Data Store using ...\n",
      "    subset:productId:  GLOBAL_ANALYSISFORECAST_BGC_001_028\n",
      "    subset:datasetId:  cmems_mod_glo_bgc-pft_anfc_0.25deg_P1D-m_202311\n",
      "    subset:date:       2025-08-03T14:36:14.728Z\n"
     ]
    },
    {
     "name": "stderr",
     "output_type": "stream",
     "text": [
      "c:\\CodeTools\\Projek\\Gemastik\\.venv\\Lib\\site-packages\\xarray\\groupers.py:509: FutureWarning: 'Q' is deprecated and will be removed in a future version, please use 'QE' instead.\n",
      "  self.index_grouper = pd.Grouper(\n"
     ]
    }
   ],
   "source": [
    "# Daftar file dan variabel yang akan diproses\n",
    "# Struktur ini (list of dictionaries) sudah baik\n",
    "files_to_process = [\n",
    "    {'sst': 'dataset/Philippines/cmems_mod_glo_bgc-pft_anfc_0.25deg_P1D-m_1754231774728.nc'},\n",
    "    {'chrol_a': 'dataset/Philippines/cmems_mod_glo_phy-cur_anfc_0.083deg_P1D-m_1754231512886.nc'},\n",
    "    {'sea_current_speed': 'dataset/Philippines/cmems_mod_glo_phy-thetao_anfc_0.083deg_P1D-m_1754231610874.nc'}\n",
    "]\n",
    "\n",
    "# Dictionary untuk menyimpan semua data kuartalan yang sudah diproses\n",
    "all_quarterly_data = {}\n",
    "\n",
    "# --- PERUBAHAN PADA LOOP DI BAWAH INI ---\n",
    "\n",
    "# Loop untuk memproses setiap dictionary di dalam list\n",
    "for data_dict in files_to_process:\n",
    "    # Loop untuk mengambil key (var_name) dan value (path) dari setiap dictionary\n",
    "    for var_name, path in data_dict.items():\n",
    "        print(f\"Memproses {path} untuk seluruh 10 tahun...\")\n",
    "        \n",
    "        # Panggil fungsi dan simpan hasilnya\n",
    "        result = process_all_quarters(path)\n",
    "        \n",
    "        if result is not None:\n",
    "            all_quarterly_data[var_name] = result\n",
    "\n",
    "# --- Verifikasi Hasil ---\n",
    "print(\"\\n--- Data kuartalan berhasil diproses dan disimpan ---\")\n",
    "\n",
    "# Contoh: Cek data suhu (sst)\n",
    "if 'sst' in all_quarterly_data:\n",
    "    sst_data_10_years = all_quarterly_data['sst']\n",
    "    print(\"\\nInformasi data SST Kuartalan (10 Tahun):\")\n",
    "    print(sst_data_10_years)\n",
    "    # Outputnya akan menunjukkan ~40 time steps (4 kuartal x 10 tahun)"
   ]
  },
  {
   "cell_type": "code",
   "execution_count": 6,
   "id": "7b5384be",
   "metadata": {},
   "outputs": [
    {
     "name": "stdout",
     "output_type": "stream",
     "text": [
      "Requirement already satisfied: xarray in c:\\codetools\\projek\\gemastik\\.venv\\lib\\site-packages (2025.7.1)\n",
      "Requirement already satisfied: pandas in c:\\codetools\\projek\\gemastik\\.venv\\lib\\site-packages (2.3.1)\n",
      "Requirement already satisfied: numpy in c:\\codetools\\projek\\gemastik\\.venv\\lib\\site-packages (2.3.2)\n",
      "Requirement already satisfied: netCDF4 in c:\\codetools\\projek\\gemastik\\.venv\\lib\\site-packages (1.7.2)\n",
      "Requirement already satisfied: packaging>=24.1 in c:\\codetools\\projek\\gemastik\\.venv\\lib\\site-packages (from xarray) (25.0)\n",
      "Requirement already satisfied: python-dateutil>=2.8.2 in c:\\codetools\\projek\\gemastik\\.venv\\lib\\site-packages (from pandas) (2.9.0.post0)\n",
      "Requirement already satisfied: pytz>=2020.1 in c:\\codetools\\projek\\gemastik\\.venv\\lib\\site-packages (from pandas) (2025.2)\n",
      "Requirement already satisfied: tzdata>=2022.7 in c:\\codetools\\projek\\gemastik\\.venv\\lib\\site-packages (from pandas) (2025.2)\n",
      "Requirement already satisfied: cftime in c:\\codetools\\projek\\gemastik\\.venv\\lib\\site-packages (from netCDF4) (1.6.4.post1)\n",
      "Requirement already satisfied: certifi in c:\\codetools\\projek\\gemastik\\.venv\\lib\\site-packages (from netCDF4) (2025.8.3)\n",
      "Requirement already satisfied: six>=1.5 in c:\\codetools\\projek\\gemastik\\.venv\\lib\\site-packages (from python-dateutil>=2.8.2->pandas) (1.17.0)\n"
     ]
    }
   ],
   "source": [
    "!c:/CodeTools/Projek/Gemastik/.venv/Scripts/python.exe -m pip install xarray pandas numpy netCDF4"
   ]
  },
  {
   "cell_type": "code",
   "execution_count": 8,
   "id": "f7b12adf",
   "metadata": {},
   "outputs": [
    {
     "name": "stdout",
     "output_type": "stream",
     "text": [
      "--- Menganalisis File: dataset/Philippines/cmems_mod_glo_bgc-pft_anfc_0.25deg_P1D-m_1754231774728.nc ---\n",
      "\n",
      "[Struktur Data]\n",
      "<xarray.Dataset> Size: 17MB\n",
      "Dimensions:    (time: 1377, depth: 1, latitude: 69, longitude: 45)\n",
      "Coordinates:\n",
      "  * time       (time) datetime64[ns] 11kB 2021-11-01 2021-11-02 ... 2025-08-08\n",
      "  * depth      (depth) float32 4B 0.494\n",
      "  * latitude   (latitude) float32 276B 4.0 4.25 4.5 4.75 ... 20.5 20.75 21.0\n",
      "  * longitude  (longitude) float32 180B 116.0 116.2 116.5 ... 126.5 126.8 127.0\n",
      "Data variables:\n",
      "    chl        (time, depth, latitude, longitude) float32 17MB ...\n",
      "Attributes:\n",
      "    Conventions:       CF-1.11\n",
      "    title:             daily mean fields from Global Ocean Biogeochemistry An...\n",
      "    institution:       Mercator Ocean\n",
      "    producer:          CMEMS - Global Monitoring and Forecasting Centre\n",
      "    credit:            E.U. Copernicus Marine Service Information (CMEMS)\n",
      "    contact:           https://marine.copernicus.eu/contact\n",
      "    references:        http://marine.copernicus.eu\n",
      "    subset:source:     ARCO data downloaded from the Marine Data Store using ...\n",
      "    subset:productId:  GLOBAL_ANALYSISFORECAST_BGC_001_028\n",
      "    subset:datasetId:  cmems_mod_glo_bgc-pft_anfc_0.25deg_P1D-m_202311\n",
      "    subset:date:       2025-08-03T14:36:14.728Z\n",
      "ERROR: Variabel 'sst' tidak ditemukan. Variabel yang tersedia: ['chl']\n"
     ]
    }
   ],
   "source": [
    "import xarray as xr\n",
    "import matplotlib.pyplot as plt\n",
    "import numpy as np\n",
    "\n",
    "def analyze_nc_file(file_path: str, variable_name: str):\n",
    "    \"\"\"\n",
    "    Menganalisis file NetCDF dengan memuatnya, menampilkan statistik,\n",
    "    dan membuat visualisasi peta.\n",
    "\n",
    "    Args:\n",
    "        file_path (str): Path menuju file .nc Anda.\n",
    "        variable_name (str): Nama variabel yang ingin dianalisis (misal: 'sst', 'chl').\n",
    "    \"\"\"\n",
    "    try:\n",
    "        # 1. Muat Dataset\n",
    "        print(f\"--- Menganalisis File: {file_path} ---\")\n",
    "        ds = xr.open_dataset(file_path)\n",
    "\n",
    "        # 2. Eksplorasi Struktur Data\n",
    "        print(\"\\n[Struktur Data]\")\n",
    "        print(ds)\n",
    "\n",
    "        # Pilih variabel data yang akan dianalisis\n",
    "        data_var = ds[variable_name]\n",
    "\n",
    "        # 3. Hitung Statistik Dasar\n",
    "        print(f\"\\n[Statistik untuk Variabel: '{variable_name}']\")\n",
    "        # Menggunakan .item() untuk mendapatkan nilai tunggal dari array\n",
    "        mean_val = np.nanmean(data_var).item()\n",
    "        max_val = np.nanmax(data_var).item()\n",
    "        min_val = np.nanmin(data_var).item()\n",
    "        std_val = np.nanstd(data_var).item()\n",
    "\n",
    "        print(f\"  - Rata-rata (Mean) : {mean_val:.2f}\")\n",
    "        print(f\"  - Nilai Maksimum   : {max_val:.2f}\")\n",
    "        print(f\"  - Nilai Minimum    : {min_val:.2f}\")\n",
    "        print(f\"  - Standar Deviasi  : {std_val:.2f}\")\n",
    "\n",
    "        # 4. Buat Visualisasi Peta (rata-rata sepanjang waktu)\n",
    "        print(\"\\n[Membuat Visualisasi Peta...]\")\n",
    "        plt.figure(figsize=(12, 8))\n",
    "        \n",
    "        # Hitung rata-rata data di seluruh dimensi waktu\n",
    "        # dan buat plot 2D (lintang vs bujur)\n",
    "        data_var.mean(dim='time').plot(cmap='jet')\n",
    "        \n",
    "        plt.title(f'Peta Rata-rata {variable_name.upper()}')\n",
    "        plt.xlabel('Bujur (Longitude)')\n",
    "        plt.ylabel('Lintang (Latitude)')\n",
    "        plt.grid(True)\n",
    "        plt.show()\n",
    "\n",
    "    except FileNotFoundError:\n",
    "        print(f\"ERROR: File tidak ditemukan di '{file_path}'\")\n",
    "    except KeyError:\n",
    "        print(f\"ERROR: Variabel '{variable_name}' tidak ditemukan. Variabel yang tersedia: {list(ds.data_vars.keys())}\")\n",
    "    except Exception as e:\n",
    "        print(f\"Terjadi error: {e}\")\n",
    "\n",
    "\n",
    "# --- CARA MENGGUNAKAN FUNGSI ---\n",
    "# Ganti dengan path file dan nama variabel Anda\n",
    "file_to_analyze = 'dataset/Philippines/cmems_mod_glo_bgc-pft_anfc_0.25deg_P1D-m_1754231774728.nc'\n",
    "variable_to_analyze = 'sst'\n",
    "\n",
    "analyze_nc_file(file_to_analyze, variable_to_analyze)"
   ]
  },
  {
   "cell_type": "code",
   "execution_count": 14,
   "id": "0094bc5c",
   "metadata": {},
   "outputs": [
    {
     "name": "stdout",
     "output_type": "stream",
     "text": [
      "Shapefile successfully converted to a single GeoPackage file: 'philippines_provinces.gpkg'\n"
     ]
    }
   ],
   "source": [
    "import geopandas as gpd\n",
    "\n",
    "# 1. Muat Shapefile Anda\n",
    "# Ganti dengan path ke file .shp Anda\n",
    "shapefile_path = 'dataset/Philippines/Province Border/phl_admbnda_adm2_psa_namria_20231106.shp'\n",
    "gdf = gpd.read_file(shapefile_path)\n",
    "\n",
    "# 2. Simpan sebagai file GeoPackage tunggal\n",
    "# File ini akan berisi semua informasi dalam satu file.\n",
    "gdf.to_file('philippines_provinces.gpkg', driver='GPKG')\n",
    "\n",
    "print(\"Shapefile successfully converted to a single GeoPackage file: 'philippines_provinces.gpkg'\")"
   ]
  },
  {
   "cell_type": "code",
   "execution_count": 18,
   "id": "5e6f12d8",
   "metadata": {},
   "outputs": [
    {
     "name": "stdout",
     "output_type": "stream",
     "text": [
      "['ADM2_EN', 'ADM2_PCODE', 'ADM1_EN', 'ADM1_PCODE', 'ADM0_EN', 'ADM0_PCODE', 'date', 'validOn', 'validTo', 'Shape_Leng', 'Shape_Area', 'ADM2ALT1EN', 'AREA_SQKM', 'geometry']\n",
      "        ADM2_EN ADM2_PCODE                     ADM1_EN ADM1_PCODE  \\\n",
      "0  Ilocos Norte    PH01028    Region I (Ilocos Region)       PH01   \n",
      "1    Ilocos Sur    PH01029    Region I (Ilocos Region)       PH01   \n",
      "2      La Union    PH01033    Region I (Ilocos Region)       PH01   \n",
      "3    Pangasinan    PH01055    Region I (Ilocos Region)       PH01   \n",
      "4       Batanes    PH02009  Region II (Cagayan Valley)       PH02   \n",
      "\n",
      "             ADM0_EN ADM0_PCODE       date    validOn validTo  Shape_Leng  \\\n",
      "0  Philippines (the)         PH 2022-11-09 2023-11-06     NaT    2.850087   \n",
      "1  Philippines (the)         PH 2022-11-09 2023-11-06     NaT    4.152632   \n",
      "2  Philippines (the)         PH 2022-11-09 2023-11-06     NaT    2.403317   \n",
      "3  Philippines (the)         PH 2022-11-09 2023-11-06     NaT    7.246192   \n",
      "4  Philippines (the)         PH 2022-11-09 2023-11-06     NaT    2.140564   \n",
      "\n",
      "   Shape_Area ADM2ALT1EN    AREA_SQKM  \\\n",
      "0    0.279709       None  3274.885081   \n",
      "1    0.209467       None  2465.276035   \n",
      "2    0.119607       None  1412.570890   \n",
      "3    0.435199       None  5154.618823   \n",
      "4    0.017443       None   201.374821   \n",
      "\n",
      "                                            geometry  \n",
      "0  POLYGON ((120.97144 18.57997, 120.97169 18.579...  \n",
      "1  MULTIPOLYGON (((120.57182 17.78603, 120.57041 ...  \n",
      "2  POLYGON ((120.56506 16.66977, 120.55565 16.657...  \n",
      "3  MULTIPOLYGON (((119.92278 16.43986, 119.92277 ...  \n",
      "4  MULTIPOLYGON (((121.94884 21.10298, 121.94881 ...  \n"
     ]
    }
   ],
   "source": [
    "import geopandas as gpd\n",
    "\n",
    "gdf = gpd.read_file(\"dataset/Philippines/Province Border/phl_admbnda_adm2_psa_namria_20231106.shp\")\n",
    "\n",
    "# See all column names\n",
    "print(gdf.columns.tolist())\n",
    "\n",
    "# Optional: See first few rows\n",
    "print(gdf.head())\n"
   ]
  }
 ],
 "metadata": {
  "kernelspec": {
   "display_name": ".venv",
   "language": "python",
   "name": "python3"
  },
  "language_info": {
   "codemirror_mode": {
    "name": "ipython",
    "version": 3
   },
   "file_extension": ".py",
   "mimetype": "text/x-python",
   "name": "python",
   "nbconvert_exporter": "python",
   "pygments_lexer": "ipython3",
   "version": "3.13.5"
  }
 },
 "nbformat": 4,
 "nbformat_minor": 5
}
